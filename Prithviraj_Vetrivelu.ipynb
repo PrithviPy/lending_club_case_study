{
 "cells": [
  {
   "cell_type": "markdown",
   "id": "10cf3cdf",
   "metadata": {},
   "source": [
    "### Lending club case study"
   ]
  },
  {
   "cell_type": "code",
   "execution_count": 211,
   "id": "ba223538",
   "metadata": {},
   "outputs": [],
   "source": [
    "# Importing Packages: All required packages are imported.\n",
    "\n",
    "\n",
    "import numpy as np\n",
    "import pandas as pd\n",
    "import matplotlib.pyplot as plt\n",
    "import seaborn as sns"
   ]
  },
  {
   "cell_type": "code",
   "execution_count": 212,
   "id": "4b881749",
   "metadata": {},
   "outputs": [
    {
     "name": "stderr",
     "output_type": "stream",
     "text": [
      "C:\\Users\\Unreal Arcadia\\AppData\\Local\\Temp\\ipykernel_7516\\3036242004.py:2: DtypeWarning: Columns (47) have mixed types. Specify dtype option on import or set low_memory=False.\n",
      "  lccs_dataframe = pd.read_csv('loan.csv')\n"
     ]
    }
   ],
   "source": [
    "# Importing Dataset\n",
    "lccs_dataframe = pd.read_csv('loan.csv')"
   ]
  },
  {
   "cell_type": "markdown",
   "id": "105a87fb",
   "metadata": {},
   "source": [
    "#### Panda Configuration"
   ]
  },
  {
   "cell_type": "code",
   "execution_count": 213,
   "id": "cfe10200",
   "metadata": {},
   "outputs": [],
   "source": [
    " # to display all the columns\n",
    "pd.set_option('display.max_columns', 111)\n",
    "# to display all rows of df series\n",
    "pd.set_option('display.max_rows',150) \n",
    "pd.options.display.float_format = '{:.4f}'.format"
   ]
  },
  {
   "cell_type": "code",
   "execution_count": 214,
   "id": "16f2889a",
   "metadata": {},
   "outputs": [
    {
     "name": "stdout",
     "output_type": "stream",
     "text": [
      "Shape -> (39717, 111)\n"
     ]
    }
   ],
   "source": [
    "#Undestanding the shape and data types\n",
    "print(\"Shape -> \"+str(lccs_dataframe.shape))"
   ]
  },
  {
   "cell_type": "markdown",
   "id": "472ddb7e",
   "metadata": {},
   "source": [
    "#### Data Cleaning"
   ]
  },
  {
   "cell_type": "markdown",
   "id": "252d8662",
   "metadata": {},
   "source": [
    "#### 1. Missing data"
   ]
  },
  {
   "cell_type": "markdown",
   "id": "61f062b8",
   "metadata": {},
   "source": [
    "`Fininding Null value`"
   ]
  },
  {
   "cell_type": "code",
   "execution_count": 215,
   "id": "872e2fc1",
   "metadata": {},
   "outputs": [],
   "source": [
    "columns_nullcount = lccs_dataframe.isnull().sum()\n",
    "\n",
    "## Making percentage of columns missing value\n",
    "\n",
    "# funcion to get null value\n",
    "def column_wise_null_percentage(df):\n",
    "    output = round(df.isnull().sum()/len(df.index)*100,2)\n",
    "    return output"
   ]
  },
  {
   "cell_type": "code",
   "execution_count": 216,
   "id": "cce563cb",
   "metadata": {},
   "outputs": [
    {
     "name": "stdout",
     "output_type": "stream",
     "text": [
      "Total Columns with 50% missing value 57\n",
      "mths_since_last_delinq         64.6600\n",
      "mths_since_last_record         92.9900\n",
      "next_pymnt_d                   97.1300\n",
      "mths_since_last_major_derog   100.0000\n",
      "annual_inc_joint              100.0000\n",
      "dtype: float64\n",
      ".....more\n"
     ]
    }
   ],
   "source": [
    "#Columns with null count more then 25000 its found to be more data loss(missing)\n",
    "\n",
    "colums_missing_percentage =  column_wise_null_percentage(lccs_dataframe)\n",
    "\n",
    "col_with_50_per_missing =colums_missing_percentage[colums_missing_percentage>50]\n",
    "print(\"Total Columns with 50% missing value\", col_with_50_per_missing.size)\n",
    "print(col_with_50_per_missing.head())\n",
    "print(\".....more\")"
   ]
  },
  {
   "cell_type": "code",
   "execution_count": 217,
   "id": "ccb284d8",
   "metadata": {},
   "outputs": [
    {
     "name": "stdout",
     "output_type": "stream",
     "text": [
      "After deleting\n",
      "Shape -> (39717, 54)\n"
     ]
    }
   ],
   "source": [
    "#Droping 50% data missing columns with index\n",
    "lccs_dataframe = lccs_dataframe.drop(col_with_50_per_missing.index,axis=1)\n",
    "print(\"After deleting\")\n",
    "print(\"Shape -> \"+str(lccs_dataframe.shape))"
   ]
  },
  {
   "cell_type": "code",
   "execution_count": 218,
   "id": "ffd65693",
   "metadata": {},
   "outputs": [
    {
     "name": "stdout",
     "output_type": "stream",
     "text": [
      "Total Columns with less 15% missing value 53\n",
      "id                0.0000\n",
      "member_id         0.0000\n",
      "loan_amnt         0.0000\n",
      "funded_amnt       0.0000\n",
      "funded_amnt_inv   0.0000\n",
      "dtype: float64\n",
      ".....more\n"
     ]
    }
   ],
   "source": [
    "#For analysis considering only columns with less the 15% data loss (considering its a fare trade)\n",
    "\n",
    "col_with_l15_per_missing =colums_missing_percentage[colums_missing_percentage<15]\n",
    "print(\"Total Columns with less 15% missing value\", col_with_l15_per_missing.size)\n",
    "print(col_with_l15_per_missing.head())\n",
    "print(\".....more\")\n",
    "\n"
   ]
  },
  {
   "cell_type": "code",
   "execution_count": 219,
   "id": "b4b150ea",
   "metadata": {},
   "outputs": [
    {
     "data": {
      "text/html": [
       "<div>\n",
       "<style scoped>\n",
       "    .dataframe tbody tr th:only-of-type {\n",
       "        vertical-align: middle;\n",
       "    }\n",
       "\n",
       "    .dataframe tbody tr th {\n",
       "        vertical-align: top;\n",
       "    }\n",
       "\n",
       "    .dataframe thead th {\n",
       "        text-align: right;\n",
       "    }\n",
       "</style>\n",
       "<table border=\"1\" class=\"dataframe\">\n",
       "  <thead>\n",
       "    <tr style=\"text-align: right;\">\n",
       "      <th></th>\n",
       "      <th>id</th>\n",
       "      <th>member_id</th>\n",
       "      <th>loan_amnt</th>\n",
       "      <th>funded_amnt</th>\n",
       "      <th>funded_amnt_inv</th>\n",
       "      <th>installment</th>\n",
       "      <th>annual_inc</th>\n",
       "      <th>dti</th>\n",
       "      <th>delinq_2yrs</th>\n",
       "      <th>inq_last_6mths</th>\n",
       "      <th>open_acc</th>\n",
       "      <th>pub_rec</th>\n",
       "      <th>revol_bal</th>\n",
       "      <th>total_acc</th>\n",
       "      <th>out_prncp</th>\n",
       "      <th>out_prncp_inv</th>\n",
       "      <th>total_pymnt</th>\n",
       "      <th>total_pymnt_inv</th>\n",
       "      <th>total_rec_prncp</th>\n",
       "      <th>total_rec_int</th>\n",
       "      <th>total_rec_late_fee</th>\n",
       "      <th>recoveries</th>\n",
       "      <th>collection_recovery_fee</th>\n",
       "      <th>last_pymnt_amnt</th>\n",
       "      <th>collections_12_mths_ex_med</th>\n",
       "      <th>policy_code</th>\n",
       "      <th>acc_now_delinq</th>\n",
       "      <th>chargeoff_within_12_mths</th>\n",
       "      <th>delinq_amnt</th>\n",
       "      <th>pub_rec_bankruptcies</th>\n",
       "      <th>tax_liens</th>\n",
       "    </tr>\n",
       "  </thead>\n",
       "  <tbody>\n",
       "    <tr>\n",
       "      <th>count</th>\n",
       "      <td>39717.0000</td>\n",
       "      <td>39717.0000</td>\n",
       "      <td>39717.0000</td>\n",
       "      <td>39717.0000</td>\n",
       "      <td>39717.0000</td>\n",
       "      <td>39717.0000</td>\n",
       "      <td>39717.0000</td>\n",
       "      <td>39717.0000</td>\n",
       "      <td>39717.0000</td>\n",
       "      <td>39717.0000</td>\n",
       "      <td>39717.0000</td>\n",
       "      <td>39717.0000</td>\n",
       "      <td>39717.0000</td>\n",
       "      <td>39717.0000</td>\n",
       "      <td>39717.0000</td>\n",
       "      <td>39717.0000</td>\n",
       "      <td>39717.0000</td>\n",
       "      <td>39717.0000</td>\n",
       "      <td>39717.0000</td>\n",
       "      <td>39717.0000</td>\n",
       "      <td>39717.0000</td>\n",
       "      <td>39717.0000</td>\n",
       "      <td>39717.0000</td>\n",
       "      <td>39717.0000</td>\n",
       "      <td>39661.0000</td>\n",
       "      <td>39717.0000</td>\n",
       "      <td>39717.0000</td>\n",
       "      <td>39661.0000</td>\n",
       "      <td>39717.0000</td>\n",
       "      <td>39020.0000</td>\n",
       "      <td>39678.0000</td>\n",
       "    </tr>\n",
       "    <tr>\n",
       "      <th>mean</th>\n",
       "      <td>683131.9131</td>\n",
       "      <td>850463.5594</td>\n",
       "      <td>11219.4438</td>\n",
       "      <td>10947.7132</td>\n",
       "      <td>10397.4489</td>\n",
       "      <td>324.5619</td>\n",
       "      <td>68968.9264</td>\n",
       "      <td>13.3151</td>\n",
       "      <td>0.1465</td>\n",
       "      <td>0.8692</td>\n",
       "      <td>9.2944</td>\n",
       "      <td>0.0551</td>\n",
       "      <td>13382.5281</td>\n",
       "      <td>22.0888</td>\n",
       "      <td>51.2279</td>\n",
       "      <td>50.9898</td>\n",
       "      <td>12153.5965</td>\n",
       "      <td>11567.1491</td>\n",
       "      <td>9793.3488</td>\n",
       "      <td>2263.6632</td>\n",
       "      <td>1.3630</td>\n",
       "      <td>95.2216</td>\n",
       "      <td>12.4061</td>\n",
       "      <td>2678.8262</td>\n",
       "      <td>0.0000</td>\n",
       "      <td>1.0000</td>\n",
       "      <td>0.0000</td>\n",
       "      <td>0.0000</td>\n",
       "      <td>0.0000</td>\n",
       "      <td>0.0433</td>\n",
       "      <td>0.0000</td>\n",
       "    </tr>\n",
       "    <tr>\n",
       "      <th>std</th>\n",
       "      <td>210694.1329</td>\n",
       "      <td>265678.3074</td>\n",
       "      <td>7456.6707</td>\n",
       "      <td>7187.2387</td>\n",
       "      <td>7128.4504</td>\n",
       "      <td>208.8749</td>\n",
       "      <td>63793.7658</td>\n",
       "      <td>6.6786</td>\n",
       "      <td>0.4918</td>\n",
       "      <td>1.0702</td>\n",
       "      <td>4.4003</td>\n",
       "      <td>0.2372</td>\n",
       "      <td>15885.0166</td>\n",
       "      <td>11.4017</td>\n",
       "      <td>375.1728</td>\n",
       "      <td>373.8245</td>\n",
       "      <td>9042.0408</td>\n",
       "      <td>8942.6726</td>\n",
       "      <td>7065.5221</td>\n",
       "      <td>2608.1120</td>\n",
       "      <td>7.2900</td>\n",
       "      <td>688.7448</td>\n",
       "      <td>148.6716</td>\n",
       "      <td>4447.1360</td>\n",
       "      <td>0.0000</td>\n",
       "      <td>0.0000</td>\n",
       "      <td>0.0000</td>\n",
       "      <td>0.0000</td>\n",
       "      <td>0.0000</td>\n",
       "      <td>0.2043</td>\n",
       "      <td>0.0000</td>\n",
       "    </tr>\n",
       "    <tr>\n",
       "      <th>min</th>\n",
       "      <td>54734.0000</td>\n",
       "      <td>70699.0000</td>\n",
       "      <td>500.0000</td>\n",
       "      <td>500.0000</td>\n",
       "      <td>0.0000</td>\n",
       "      <td>15.6900</td>\n",
       "      <td>4000.0000</td>\n",
       "      <td>0.0000</td>\n",
       "      <td>0.0000</td>\n",
       "      <td>0.0000</td>\n",
       "      <td>2.0000</td>\n",
       "      <td>0.0000</td>\n",
       "      <td>0.0000</td>\n",
       "      <td>2.0000</td>\n",
       "      <td>0.0000</td>\n",
       "      <td>0.0000</td>\n",
       "      <td>0.0000</td>\n",
       "      <td>0.0000</td>\n",
       "      <td>0.0000</td>\n",
       "      <td>0.0000</td>\n",
       "      <td>0.0000</td>\n",
       "      <td>0.0000</td>\n",
       "      <td>0.0000</td>\n",
       "      <td>0.0000</td>\n",
       "      <td>0.0000</td>\n",
       "      <td>1.0000</td>\n",
       "      <td>0.0000</td>\n",
       "      <td>0.0000</td>\n",
       "      <td>0.0000</td>\n",
       "      <td>0.0000</td>\n",
       "      <td>0.0000</td>\n",
       "    </tr>\n",
       "    <tr>\n",
       "      <th>25%</th>\n",
       "      <td>516221.0000</td>\n",
       "      <td>666780.0000</td>\n",
       "      <td>5500.0000</td>\n",
       "      <td>5400.0000</td>\n",
       "      <td>5000.0000</td>\n",
       "      <td>167.0200</td>\n",
       "      <td>40404.0000</td>\n",
       "      <td>8.1700</td>\n",
       "      <td>0.0000</td>\n",
       "      <td>0.0000</td>\n",
       "      <td>6.0000</td>\n",
       "      <td>0.0000</td>\n",
       "      <td>3703.0000</td>\n",
       "      <td>13.0000</td>\n",
       "      <td>0.0000</td>\n",
       "      <td>0.0000</td>\n",
       "      <td>5576.9300</td>\n",
       "      <td>5112.3100</td>\n",
       "      <td>4600.0000</td>\n",
       "      <td>662.1800</td>\n",
       "      <td>0.0000</td>\n",
       "      <td>0.0000</td>\n",
       "      <td>0.0000</td>\n",
       "      <td>218.6800</td>\n",
       "      <td>0.0000</td>\n",
       "      <td>1.0000</td>\n",
       "      <td>0.0000</td>\n",
       "      <td>0.0000</td>\n",
       "      <td>0.0000</td>\n",
       "      <td>0.0000</td>\n",
       "      <td>0.0000</td>\n",
       "    </tr>\n",
       "    <tr>\n",
       "      <th>50%</th>\n",
       "      <td>665665.0000</td>\n",
       "      <td>850812.0000</td>\n",
       "      <td>10000.0000</td>\n",
       "      <td>9600.0000</td>\n",
       "      <td>8975.0000</td>\n",
       "      <td>280.2200</td>\n",
       "      <td>59000.0000</td>\n",
       "      <td>13.4000</td>\n",
       "      <td>0.0000</td>\n",
       "      <td>1.0000</td>\n",
       "      <td>9.0000</td>\n",
       "      <td>0.0000</td>\n",
       "      <td>8850.0000</td>\n",
       "      <td>20.0000</td>\n",
       "      <td>0.0000</td>\n",
       "      <td>0.0000</td>\n",
       "      <td>9899.6403</td>\n",
       "      <td>9287.1500</td>\n",
       "      <td>8000.0000</td>\n",
       "      <td>1348.9100</td>\n",
       "      <td>0.0000</td>\n",
       "      <td>0.0000</td>\n",
       "      <td>0.0000</td>\n",
       "      <td>546.1400</td>\n",
       "      <td>0.0000</td>\n",
       "      <td>1.0000</td>\n",
       "      <td>0.0000</td>\n",
       "      <td>0.0000</td>\n",
       "      <td>0.0000</td>\n",
       "      <td>0.0000</td>\n",
       "      <td>0.0000</td>\n",
       "    </tr>\n",
       "    <tr>\n",
       "      <th>75%</th>\n",
       "      <td>837755.0000</td>\n",
       "      <td>1047339.0000</td>\n",
       "      <td>15000.0000</td>\n",
       "      <td>15000.0000</td>\n",
       "      <td>14400.0000</td>\n",
       "      <td>430.7800</td>\n",
       "      <td>82300.0000</td>\n",
       "      <td>18.6000</td>\n",
       "      <td>0.0000</td>\n",
       "      <td>1.0000</td>\n",
       "      <td>12.0000</td>\n",
       "      <td>0.0000</td>\n",
       "      <td>17058.0000</td>\n",
       "      <td>29.0000</td>\n",
       "      <td>0.0000</td>\n",
       "      <td>0.0000</td>\n",
       "      <td>16534.4330</td>\n",
       "      <td>15798.8100</td>\n",
       "      <td>13653.2600</td>\n",
       "      <td>2833.4000</td>\n",
       "      <td>0.0000</td>\n",
       "      <td>0.0000</td>\n",
       "      <td>0.0000</td>\n",
       "      <td>3293.1600</td>\n",
       "      <td>0.0000</td>\n",
       "      <td>1.0000</td>\n",
       "      <td>0.0000</td>\n",
       "      <td>0.0000</td>\n",
       "      <td>0.0000</td>\n",
       "      <td>0.0000</td>\n",
       "      <td>0.0000</td>\n",
       "    </tr>\n",
       "    <tr>\n",
       "      <th>max</th>\n",
       "      <td>1077501.0000</td>\n",
       "      <td>1314167.0000</td>\n",
       "      <td>35000.0000</td>\n",
       "      <td>35000.0000</td>\n",
       "      <td>35000.0000</td>\n",
       "      <td>1305.1900</td>\n",
       "      <td>6000000.0000</td>\n",
       "      <td>29.9900</td>\n",
       "      <td>11.0000</td>\n",
       "      <td>8.0000</td>\n",
       "      <td>44.0000</td>\n",
       "      <td>4.0000</td>\n",
       "      <td>149588.0000</td>\n",
       "      <td>90.0000</td>\n",
       "      <td>6311.4700</td>\n",
       "      <td>6307.3700</td>\n",
       "      <td>58563.6799</td>\n",
       "      <td>58563.6800</td>\n",
       "      <td>35000.0200</td>\n",
       "      <td>23563.6800</td>\n",
       "      <td>180.2000</td>\n",
       "      <td>29623.3500</td>\n",
       "      <td>7002.1900</td>\n",
       "      <td>36115.2000</td>\n",
       "      <td>0.0000</td>\n",
       "      <td>1.0000</td>\n",
       "      <td>0.0000</td>\n",
       "      <td>0.0000</td>\n",
       "      <td>0.0000</td>\n",
       "      <td>2.0000</td>\n",
       "      <td>0.0000</td>\n",
       "    </tr>\n",
       "  </tbody>\n",
       "</table>\n",
       "</div>"
      ],
      "text/plain": [
       "                id    member_id  loan_amnt  funded_amnt  funded_amnt_inv  \\\n",
       "count   39717.0000   39717.0000 39717.0000   39717.0000       39717.0000   \n",
       "mean   683131.9131  850463.5594 11219.4438   10947.7132       10397.4489   \n",
       "std    210694.1329  265678.3074  7456.6707    7187.2387        7128.4504   \n",
       "min     54734.0000   70699.0000   500.0000     500.0000           0.0000   \n",
       "25%    516221.0000  666780.0000  5500.0000    5400.0000        5000.0000   \n",
       "50%    665665.0000  850812.0000 10000.0000    9600.0000        8975.0000   \n",
       "75%    837755.0000 1047339.0000 15000.0000   15000.0000       14400.0000   \n",
       "max   1077501.0000 1314167.0000 35000.0000   35000.0000       35000.0000   \n",
       "\n",
       "       installment   annual_inc        dti  delinq_2yrs  inq_last_6mths  \\\n",
       "count   39717.0000   39717.0000 39717.0000   39717.0000      39717.0000   \n",
       "mean      324.5619   68968.9264    13.3151       0.1465          0.8692   \n",
       "std       208.8749   63793.7658     6.6786       0.4918          1.0702   \n",
       "min        15.6900    4000.0000     0.0000       0.0000          0.0000   \n",
       "25%       167.0200   40404.0000     8.1700       0.0000          0.0000   \n",
       "50%       280.2200   59000.0000    13.4000       0.0000          1.0000   \n",
       "75%       430.7800   82300.0000    18.6000       0.0000          1.0000   \n",
       "max      1305.1900 6000000.0000    29.9900      11.0000          8.0000   \n",
       "\n",
       "        open_acc    pub_rec   revol_bal  total_acc  out_prncp  out_prncp_inv  \\\n",
       "count 39717.0000 39717.0000  39717.0000 39717.0000 39717.0000     39717.0000   \n",
       "mean      9.2944     0.0551  13382.5281    22.0888    51.2279        50.9898   \n",
       "std       4.4003     0.2372  15885.0166    11.4017   375.1728       373.8245   \n",
       "min       2.0000     0.0000      0.0000     2.0000     0.0000         0.0000   \n",
       "25%       6.0000     0.0000   3703.0000    13.0000     0.0000         0.0000   \n",
       "50%       9.0000     0.0000   8850.0000    20.0000     0.0000         0.0000   \n",
       "75%      12.0000     0.0000  17058.0000    29.0000     0.0000         0.0000   \n",
       "max      44.0000     4.0000 149588.0000    90.0000  6311.4700      6307.3700   \n",
       "\n",
       "       total_pymnt  total_pymnt_inv  total_rec_prncp  total_rec_int  \\\n",
       "count   39717.0000       39717.0000       39717.0000     39717.0000   \n",
       "mean    12153.5965       11567.1491        9793.3488      2263.6632   \n",
       "std      9042.0408        8942.6726        7065.5221      2608.1120   \n",
       "min         0.0000           0.0000           0.0000         0.0000   \n",
       "25%      5576.9300        5112.3100        4600.0000       662.1800   \n",
       "50%      9899.6403        9287.1500        8000.0000      1348.9100   \n",
       "75%     16534.4330       15798.8100       13653.2600      2833.4000   \n",
       "max     58563.6799       58563.6800       35000.0200     23563.6800   \n",
       "\n",
       "       total_rec_late_fee  recoveries  collection_recovery_fee  \\\n",
       "count          39717.0000  39717.0000               39717.0000   \n",
       "mean               1.3630     95.2216                  12.4061   \n",
       "std                7.2900    688.7448                 148.6716   \n",
       "min                0.0000      0.0000                   0.0000   \n",
       "25%                0.0000      0.0000                   0.0000   \n",
       "50%                0.0000      0.0000                   0.0000   \n",
       "75%                0.0000      0.0000                   0.0000   \n",
       "max              180.2000  29623.3500                7002.1900   \n",
       "\n",
       "       last_pymnt_amnt  collections_12_mths_ex_med  policy_code  \\\n",
       "count       39717.0000                  39661.0000   39717.0000   \n",
       "mean         2678.8262                      0.0000       1.0000   \n",
       "std          4447.1360                      0.0000       0.0000   \n",
       "min             0.0000                      0.0000       1.0000   \n",
       "25%           218.6800                      0.0000       1.0000   \n",
       "50%           546.1400                      0.0000       1.0000   \n",
       "75%          3293.1600                      0.0000       1.0000   \n",
       "max         36115.2000                      0.0000       1.0000   \n",
       "\n",
       "       acc_now_delinq  chargeoff_within_12_mths  delinq_amnt  \\\n",
       "count      39717.0000                39661.0000   39717.0000   \n",
       "mean           0.0000                    0.0000       0.0000   \n",
       "std            0.0000                    0.0000       0.0000   \n",
       "min            0.0000                    0.0000       0.0000   \n",
       "25%            0.0000                    0.0000       0.0000   \n",
       "50%            0.0000                    0.0000       0.0000   \n",
       "75%            0.0000                    0.0000       0.0000   \n",
       "max            0.0000                    0.0000       0.0000   \n",
       "\n",
       "       pub_rec_bankruptcies  tax_liens  \n",
       "count            39020.0000 39678.0000  \n",
       "mean                 0.0433     0.0000  \n",
       "std                  0.2043     0.0000  \n",
       "min                  0.0000     0.0000  \n",
       "25%                  0.0000     0.0000  \n",
       "50%                  0.0000     0.0000  \n",
       "75%                  0.0000     0.0000  \n",
       "max                  2.0000     0.0000  "
      ]
     },
     "execution_count": 219,
     "metadata": {},
     "output_type": "execute_result"
    }
   ],
   "source": [
    "lccs_dataframe[col_with_l15_per_missing.index].describe()"
   ]
  },
  {
   "cell_type": "code",
   "execution_count": 220,
   "id": "3a7efea7",
   "metadata": {},
   "outputs": [
    {
     "data": {
      "text/plain": [
       "id                            39717\n",
       "member_id                     39717\n",
       "url                           39717\n",
       "total_pymnt                   37850\n",
       "total_pymnt_inv               37518\n",
       "total_rec_int                 35148\n",
       "last_pymnt_amnt               34930\n",
       "emp_title                     28820\n",
       "revol_bal                     21711\n",
       "title                         19615\n",
       "installment                   15383\n",
       "funded_amnt_inv                8205\n",
       "total_rec_prncp                7976\n",
       "annual_inc                     5318\n",
       "recoveries                     4040\n",
       "dti                            2868\n",
       "collection_recovery_fee        2616\n",
       "total_rec_late_fee             1356\n",
       "out_prncp_inv                  1138\n",
       "out_prncp                      1137\n",
       "revol_util                     1089\n",
       "funded_amnt                    1041\n",
       "loan_amnt                       885\n",
       "zip_code                        823\n",
       "earliest_cr_line                526\n",
       "int_rate                        371\n",
       "last_credit_pull_d              106\n",
       "last_pymnt_d                    101\n",
       "total_acc                        82\n",
       "issue_d                          55\n",
       "addr_state                       50\n",
       "open_acc                         40\n",
       "sub_grade                        35\n",
       "purpose                          14\n",
       "delinq_2yrs                      11\n",
       "emp_length                       11\n",
       "inq_last_6mths                    9\n",
       "grade                             7\n",
       "pub_rec                           5\n",
       "home_ownership                    5\n",
       "loan_status                       3\n",
       "verification_status               3\n",
       "pub_rec_bankruptcies              3\n",
       "term                              2\n",
       "initial_list_status               1\n",
       "pymnt_plan                        1\n",
       "collections_12_mths_ex_med        1\n",
       "policy_code                       1\n",
       "application_type                  1\n",
       "acc_now_delinq                    1\n",
       "chargeoff_within_12_mths          1\n",
       "delinq_amnt                       1\n",
       "tax_liens                         1\n",
       "dtype: int64"
      ]
     },
     "execution_count": 220,
     "metadata": {},
     "output_type": "execute_result"
    }
   ],
   "source": [
    "# identify unique values count\n",
    "\n",
    "lccs_dataframe[col_with_l15_per_missing.index].nunique().sort_values(ascending=False)"
   ]
  },
  {
   "cell_type": "code",
   "execution_count": 221,
   "id": "90c021bf",
   "metadata": {},
   "outputs": [],
   "source": [
    "# Deleting ID column\n",
    "lccs_dataframe = lccs_dataframe.drop(['id','member_id','url'],axis=1)"
   ]
  },
  {
   "cell_type": "code",
   "execution_count": 222,
   "id": "0dfc330f",
   "metadata": {},
   "outputs": [],
   "source": [
    "lccs_dataframe['int_rate'] = lccs_dataframe['int_rate'].apply(lambda ir : float(ir.replace('%','')))\n",
    "## Applying for months\n",
    "lccs_dataframe['term'] = lccs_dataframe['term'].apply(lambda ir : int(ir.replace(' months','')))\n"
   ]
  },
  {
   "cell_type": "code",
   "execution_count": 223,
   "id": "c82cdebb",
   "metadata": {},
   "outputs": [
    {
     "name": "stdout",
     "output_type": "stream",
     "text": [
      "<class 'pandas.core.frame.DataFrame'>\n",
      "RangeIndex: 39717 entries, 0 to 39716\n",
      "Data columns (total 51 columns):\n",
      " #   Column                      Non-Null Count  Dtype  \n",
      "---  ------                      --------------  -----  \n",
      " 0   loan_amnt                   39717 non-null  int64  \n",
      " 1   funded_amnt                 39717 non-null  int64  \n",
      " 2   funded_amnt_inv             39717 non-null  float64\n",
      " 3   term                        39717 non-null  int64  \n",
      " 4   int_rate                    39717 non-null  float64\n",
      " 5   installment                 39717 non-null  float64\n",
      " 6   grade                       39717 non-null  object \n",
      " 7   sub_grade                   39717 non-null  object \n",
      " 8   emp_title                   37258 non-null  object \n",
      " 9   emp_length                  38642 non-null  object \n",
      " 10  home_ownership              39717 non-null  object \n",
      " 11  annual_inc                  39717 non-null  float64\n",
      " 12  verification_status         39717 non-null  object \n",
      " 13  issue_d                     39717 non-null  object \n",
      " 14  loan_status                 39717 non-null  object \n",
      " 15  pymnt_plan                  39717 non-null  object \n",
      " 16  desc                        26777 non-null  object \n",
      " 17  purpose                     39717 non-null  object \n",
      " 18  title                       39706 non-null  object \n",
      " 19  zip_code                    39717 non-null  object \n",
      " 20  addr_state                  39717 non-null  object \n",
      " 21  dti                         39717 non-null  float64\n",
      " 22  delinq_2yrs                 39717 non-null  int64  \n",
      " 23  earliest_cr_line            39717 non-null  object \n",
      " 24  inq_last_6mths              39717 non-null  int64  \n",
      " 25  open_acc                    39717 non-null  int64  \n",
      " 26  pub_rec                     39717 non-null  int64  \n",
      " 27  revol_bal                   39717 non-null  int64  \n",
      " 28  revol_util                  39667 non-null  object \n",
      " 29  total_acc                   39717 non-null  int64  \n",
      " 30  initial_list_status         39717 non-null  object \n",
      " 31  out_prncp                   39717 non-null  float64\n",
      " 32  out_prncp_inv               39717 non-null  float64\n",
      " 33  total_pymnt                 39717 non-null  float64\n",
      " 34  total_pymnt_inv             39717 non-null  float64\n",
      " 35  total_rec_prncp             39717 non-null  float64\n",
      " 36  total_rec_int               39717 non-null  float64\n",
      " 37  total_rec_late_fee          39717 non-null  float64\n",
      " 38  recoveries                  39717 non-null  float64\n",
      " 39  collection_recovery_fee     39717 non-null  float64\n",
      " 40  last_pymnt_d                39646 non-null  object \n",
      " 41  last_pymnt_amnt             39717 non-null  float64\n",
      " 42  last_credit_pull_d          39715 non-null  object \n",
      " 43  collections_12_mths_ex_med  39661 non-null  float64\n",
      " 44  policy_code                 39717 non-null  int64  \n",
      " 45  application_type            39717 non-null  object \n",
      " 46  acc_now_delinq              39717 non-null  int64  \n",
      " 47  chargeoff_within_12_mths    39661 non-null  float64\n",
      " 48  delinq_amnt                 39717 non-null  int64  \n",
      " 49  pub_rec_bankruptcies        39020 non-null  float64\n",
      " 50  tax_liens                   39678 non-null  float64\n",
      "dtypes: float64(19), int64(12), object(20)\n",
      "memory usage: 15.5+ MB\n"
     ]
    }
   ],
   "source": [
    "lccs_dataframe.info()"
   ]
  },
  {
   "cell_type": "markdown",
   "id": "616ffda9",
   "metadata": {},
   "source": [
    "## Extracting diffrent data type"
   ]
  },
  {
   "cell_type": "markdown",
   "id": "eea86003",
   "metadata": {},
   "source": [
    "#### Univariate Analysis\n",
    "This session focuses on analyzing variables one at a time, as the term “uni-variate” implies. Before analyzing numerous variables together, it’s critical to first analyze each one individually.\n",
    "\n",
    "#### Continuous Variables\n",
    "When dealing with continuous variables, it’s important to know the variable’s central tendency and spread. Statistical metrics visualization methods such as Box-plot, Histogram/Distribution Plot, Violin Plot, and others are used to measure these.\n",
    "\n",
    "#### Categorical Variables\n",
    "We’ll utilize a frequency table to study the distribution of categorical variables. Count and Count percent against each category are two metrics that can be used to assess it. As a visualization, a count-plot or a bar chart can be employed."
   ]
  },
  {
   "cell_type": "code",
   "execution_count": 224,
   "id": "0e2eb9ae",
   "metadata": {},
   "outputs": [
    {
     "name": "stdout",
     "output_type": "stream",
     "text": [
      "Number of numerical variables:  31\n",
      "Number of discrete variables:  11\n"
     ]
    }
   ],
   "source": [
    "# make list of numerical variables\n",
    "numeric_variables = [var for var in lccs_dataframe.columns if lccs_dataframe[var].dtypes != 'O']\n",
    "print('Number of numerical variables: ', len(numeric_variables))\n",
    "\n",
    "# visualise the numerical variables\n",
    "lccs_dataframe[numeric_variables].head()\n",
    "\n",
    "\n",
    "#  let's male a list of discrete variables\n",
    "discrete_vars = [var for var in numeric_variables if len(\n",
    "    lccs_dataframe[var].unique()) < 20]\n",
    "\n",
    "print('Number of discrete variables: ', len(discrete_vars))"
   ]
  },
  {
   "cell_type": "markdown",
   "id": "036cbbad",
   "metadata": {},
   "source": [
    "#### Finding Categorical variable"
   ]
  },
  {
   "cell_type": "code",
   "execution_count": 226,
   "id": "663beacf",
   "metadata": {
    "scrolled": true
   },
   "outputs": [
    {
     "name": "stdout",
     "output_type": "stream",
     "text": [
      "Number of categorical variables:  20\n"
     ]
    },
    {
     "data": {
      "text/plain": [
       "['grade',\n",
       " 'sub_grade',\n",
       " 'emp_title',\n",
       " 'emp_length',\n",
       " 'home_ownership',\n",
       " 'verification_status',\n",
       " 'issue_d',\n",
       " 'loan_status',\n",
       " 'pymnt_plan',\n",
       " 'desc',\n",
       " 'purpose',\n",
       " 'title',\n",
       " 'zip_code',\n",
       " 'addr_state',\n",
       " 'earliest_cr_line',\n",
       " 'revol_util',\n",
       " 'initial_list_status',\n",
       " 'last_pymnt_d',\n",
       " 'last_credit_pull_d',\n",
       " 'application_type']"
      ]
     },
     "execution_count": 226,
     "metadata": {},
     "output_type": "execute_result"
    }
   ],
   "source": [
    "# capture categorical variables in a list\n",
    "categorical_vars = [var for var in lccs_dataframe.columns if lccs_dataframe[var].dtypes == 'O']\n",
    "\n",
    "print('Number of categorical variables: ', len(categorical_vars))\n",
    "categorical_vars"
   ]
  },
  {
   "cell_type": "markdown",
   "id": "6fc945a2",
   "metadata": {},
   "source": [
    "#### Countineous variable "
   ]
  },
  {
   "cell_type": "code",
   "execution_count": 227,
   "id": "5ed54585",
   "metadata": {},
   "outputs": [
    {
     "name": "stdout",
     "output_type": "stream",
     "text": [
      "Number of continuous variables:  20\n"
     ]
    }
   ],
   "source": [
    "# make list of continuous variables\n",
    "continuous_vars = [\n",
    "    var for var in numeric_variables if var not in discrete_vars]\n",
    "print('Number of continuous variables: ', len(continuous_vars))"
   ]
  },
  {
   "cell_type": "code",
   "execution_count": 228,
   "id": "ce4f243c",
   "metadata": {},
   "outputs": [
    {
     "data": {
      "text/plain": [
       "['loan_amnt',\n",
       " 'funded_amnt',\n",
       " 'funded_amnt_inv',\n",
       " 'int_rate',\n",
       " 'installment',\n",
       " 'annual_inc',\n",
       " 'dti',\n",
       " 'open_acc',\n",
       " 'revol_bal',\n",
       " 'total_acc',\n",
       " 'out_prncp',\n",
       " 'out_prncp_inv',\n",
       " 'total_pymnt',\n",
       " 'total_pymnt_inv',\n",
       " 'total_rec_prncp',\n",
       " 'total_rec_int',\n",
       " 'total_rec_late_fee',\n",
       " 'recoveries',\n",
       " 'collection_recovery_fee',\n",
       " 'last_pymnt_amnt']"
      ]
     },
     "execution_count": 228,
     "metadata": {},
     "output_type": "execute_result"
    }
   ],
   "source": [
    "continuous_vars"
   ]
  },
  {
   "cell_type": "code",
   "execution_count": 229,
   "id": "93638be1",
   "metadata": {},
   "outputs": [],
   "source": [
    "#Finding Outliers"
   ]
  },
  {
   "cell_type": "code",
   "execution_count": 230,
   "id": "73796576",
   "metadata": {},
   "outputs": [
    {
     "data": {
      "text/plain": [
       "['loan_amnt',\n",
       " 'funded_amnt',\n",
       " 'funded_amnt_inv',\n",
       " 'term',\n",
       " 'int_rate',\n",
       " 'installment',\n",
       " 'annual_inc',\n",
       " 'dti',\n",
       " 'delinq_2yrs',\n",
       " 'inq_last_6mths',\n",
       " 'open_acc',\n",
       " 'pub_rec',\n",
       " 'revol_bal',\n",
       " 'total_acc',\n",
       " 'out_prncp',\n",
       " 'out_prncp_inv',\n",
       " 'total_pymnt',\n",
       " 'total_pymnt_inv',\n",
       " 'total_rec_prncp',\n",
       " 'total_rec_int',\n",
       " 'total_rec_late_fee',\n",
       " 'recoveries',\n",
       " 'collection_recovery_fee',\n",
       " 'last_pymnt_amnt',\n",
       " 'collections_12_mths_ex_med',\n",
       " 'policy_code',\n",
       " 'acc_now_delinq',\n",
       " 'chargeoff_within_12_mths',\n",
       " 'delinq_amnt',\n",
       " 'pub_rec_bankruptcies',\n",
       " 'tax_liens']"
      ]
     },
     "execution_count": 230,
     "metadata": {},
     "output_type": "execute_result"
    }
   ],
   "source": [
    "numeric_variables"
   ]
  },
  {
   "cell_type": "code",
   "execution_count": null,
   "id": "c10e9174",
   "metadata": {},
   "outputs": [],
   "source": []
  }
 ],
 "metadata": {
  "kernelspec": {
   "display_name": "Python 3 (ipykernel)",
   "language": "python",
   "name": "python3"
  },
  "language_info": {
   "codemirror_mode": {
    "name": "ipython",
    "version": 3
   },
   "file_extension": ".py",
   "mimetype": "text/x-python",
   "name": "python",
   "nbconvert_exporter": "python",
   "pygments_lexer": "ipython3",
   "version": "3.9.13"
  }
 },
 "nbformat": 4,
 "nbformat_minor": 5
}
